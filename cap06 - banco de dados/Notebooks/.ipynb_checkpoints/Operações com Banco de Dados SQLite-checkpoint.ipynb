{
 "cells": [
  {
   "cell_type": "code",
   "execution_count": 36,
   "metadata": {},
   "outputs": [],
   "source": [
    "import sqlite3\n",
    "import random\n",
    "import time\n",
    "import datetime\n",
    "import matplotlib.pyplot as plt\n",
    "%matplotlib notebook"
   ]
  },
  {
   "cell_type": "code",
   "execution_count": 21,
   "metadata": {},
   "outputs": [],
   "source": [
    "# Criando uma conexão\n",
    "conn = sqlite3.connect('dsa.db') "
   ]
  },
  {
   "cell_type": "code",
   "execution_count": 22,
   "metadata": {},
   "outputs": [],
   "source": [
    "# Criando um cursor\n",
    "c = conn.cursor()"
   ]
  },
  {
   "cell_type": "code",
   "execution_count": 23,
   "metadata": {},
   "outputs": [],
   "source": [
    "# Função para criar uma tabela\n",
    "def create_table():\n",
    "    c.execute('CREATE TABLE IF NOT EXISTS produtos(id INTEGER PRIMARY KEY AUTOINCREMENT NOT NULL, data TEXT, '\\\n",
    "              'prod_nome TEXT, valor REAL)')"
   ]
  },
  {
   "cell_type": "code",
   "execution_count": 24,
   "metadata": {},
   "outputs": [],
   "source": [
    "# Função para inserir uma linha\n",
    "def insert():\n",
    "    c.execute(\"INSERT INTO produtos VALUES(002, '02-05-2016', 'teclado', 130 )\")\n",
    "    \n",
    "    conn.commit()\n",
    "    \n",
    "    c.close()\n",
    "    conn.close()"
   ]
  },
  {
   "cell_type": "code",
   "execution_count": 25,
   "metadata": {},
   "outputs": [],
   "source": [
    "# Usando variáveis para inserir dados    \n",
    "def insert_var():\n",
    "    nova_data = datetime.datetime.now()\n",
    "    novo_prod_nome = 'monitor'\n",
    "    novo_valor = random.randrange(50,100)\n",
    "    \n",
    "    c.execute(\"INSERT INTO produtos (date, prod_name, valor) VALUES (?, ?, ?, ?)\", \n",
    "              (nova_data, novo_prod_nome, novo_valor))\n",
    "    \n",
    "    conn.commit()"
   ]
  },
  {
   "cell_type": "code",
   "execution_count": 26,
   "metadata": {},
   "outputs": [],
   "source": [
    "# Leitura de dados\n",
    "def select():\n",
    "    c.execute(\"SELECT * FROM PRODUTOS\")\n",
    "    \n",
    "    for i in c.fetchall():\n",
    "        print(i)"
   ]
  },
  {
   "cell_type": "code",
   "execution_count": 27,
   "metadata": {},
   "outputs": [],
   "source": [
    "# Leitura de registros específicos\n",
    "def select_some():\n",
    "    c.execute(\"SELECT * FROM PRODUTOS WHERE valor > 70.0\")\n",
    "    \n",
    "    for i in c.fetchall():\n",
    "        print(i)   "
   ]
  },
  {
   "cell_type": "code",
   "execution_count": 28,
   "metadata": {},
   "outputs": [],
   "source": [
    "# Leitura de colunas específicos\n",
    "def select_col():\n",
    "    c.execute(\"SELECT * FROM PRODUTOS\")\n",
    "    \n",
    "    for i in c.fetchall():\n",
    "        print(i[3])  "
   ]
  },
  {
   "cell_type": "code",
   "execution_count": 29,
   "metadata": {},
   "outputs": [],
   "source": [
    "# Update\n",
    "def update_data():\n",
    "    c.execute(\"UPDATE produtos SET valor = 70.00 WHERE valor = 98.0\")\n",
    "    \n",
    "    conn.commit()"
   ]
  },
  {
   "cell_type": "code",
   "execution_count": 30,
   "metadata": {},
   "outputs": [],
   "source": [
    "# Delete\n",
    "def remove_data():\n",
    "    c.execute(\"DELETE FROM produtos WHERE valor = 62.0\")\n",
    "    \n",
    "    conn.commit()"
   ]
  },
  {
   "cell_type": "code",
   "execution_count": 37,
   "metadata": {},
   "outputs": [
    {
     "data": {
      "image/png": "[encoded data removed]",
      "text/plain": [
       "<Figure size 432x288 with 1 Axes>"
      ]
     },
     "metadata": {
      "needs_background": "light"
     },
     "output_type": "display_data"
    }
   ],
   "source": [
    "# Gerar grafico\n",
    "\n",
    "c.execute(\"SELECT id, valor FROM produtos\")\n",
    "\n",
    "ids = []\n",
    "valores = []\n",
    "\n",
    "dados = c.fetchall()\n",
    "\n",
    "for i in dados:\n",
    "    ids.append(i[0])\n",
    "    valores.append(i[1])\n",
    "    \n",
    "plt.bar(ids, valores)\n",
    "plt.show()"
   ]
  },
  {
   "cell_type": "code",
   "execution_count": 31,
   "metadata": {},
   "outputs": [
    {
     "name": "stdout",
     "output_type": "stream",
     "text": [
      "(10, '2018-05-02 14:32:11', 'Teclado', 90.0)\n",
      "(11, '2018-04-18 16:01:53.996258', 'Monitor', 74.0)\n",
      "(12, '2018-04-18 16:01:54.999582', 'Monitor', 56.0)\n",
      "(13, '2018-04-18 16:01:56.010718', 'Monitor', 78.0)\n",
      "(14, '2018-04-18 16:01:57.021711', 'Monitor', 90.0)\n",
      "(15, '2018-04-18 16:01:58.033052', 'Monitor', 82.0)\n",
      "(16, '2018-04-18 16:01:59.049664', 'Monitor', 95.0)\n",
      "(17, '2018-04-18 16:02:00.059787', 'Monitor', 57.0)\n",
      "(18, '2018-04-18 16:02:01.071106', 'Monitor', 66.0)\n",
      "(19, '2018-04-18 16:02:02.082037', 'Monitor', 94.0)\n",
      "(20, '2018-04-18 16:02:03.093071', 'Monitor', 51.0)\n"
     ]
    }
   ],
   "source": [
    "select()"
   ]
  },
  {
   "cell_type": "code",
   "execution_count": 32,
   "metadata": {},
   "outputs": [
    {
     "name": "stdout",
     "output_type": "stream",
     "text": [
      "(10, '2018-05-02 14:32:11', 'Teclado', 90.0)\n",
      "(11, '2018-04-18 16:01:53.996258', 'Monitor', 74.0)\n",
      "(13, '2018-04-18 16:01:56.010718', 'Monitor', 78.0)\n",
      "(14, '2018-04-18 16:01:57.021711', 'Monitor', 90.0)\n",
      "(15, '2018-04-18 16:01:58.033052', 'Monitor', 82.0)\n",
      "(16, '2018-04-18 16:01:59.049664', 'Monitor', 95.0)\n",
      "(19, '2018-04-18 16:02:02.082037', 'Monitor', 94.0)\n"
     ]
    }
   ],
   "source": [
    "select_some()"
   ]
  },
  {
   "cell_type": "code",
   "execution_count": 33,
   "metadata": {},
   "outputs": [
    {
     "name": "stdout",
     "output_type": "stream",
     "text": [
      "90.0\n",
      "74.0\n",
      "56.0\n",
      "78.0\n",
      "90.0\n",
      "82.0\n",
      "95.0\n",
      "57.0\n",
      "66.0\n",
      "94.0\n",
      "51.0\n"
     ]
    }
   ],
   "source": [
    "select_col()"
   ]
  },
  {
   "cell_type": "code",
   "execution_count": null,
   "metadata": {},
   "outputs": [],
   "source": []
  }
 ],
 "metadata": {
  "kernelspec": {
   "display_name": "Python 3",
   "language": "python",
   "name": "python3"
  },
  "language_info": {
   "codemirror_mode": {
    "name": "ipython",
    "version": 3
   },
   "file_extension": ".py",
   "mimetype": "text/x-python",
   "name": "python",
   "nbconvert_exporter": "python",
   "pygments_lexer": "ipython3",
   "version": "3.7.4"
  }
 },
 "nbformat": 4,
 "nbformat_minor": 2
}
